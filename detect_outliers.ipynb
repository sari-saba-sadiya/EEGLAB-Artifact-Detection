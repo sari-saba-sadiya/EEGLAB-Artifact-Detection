{
 "cells": [
  {
   "cell_type": "code",
   "execution_count": 372,
   "metadata": {},
   "outputs": [],
   "source": [
    "import EEGExtract as eeg\n",
    "import glob\n",
    "import numpy as np\n",
    "import scipy.io"
   ]
  },
  {
   "cell_type": "code",
   "execution_count": 373,
   "metadata": {},
   "outputs": [],
   "source": [
    "# https://pyod.readthedocs.io/en/latest/pyod.models.html\n",
    "from pyod import models\n",
    "from pyod.models import hbos,auto_encoder,lof,so_gaal,lscp,vae,abod,ocsvm,xgbod,pca"
   ]
  },
  {
   "cell_type": "code",
   "execution_count": 383,
   "metadata": {},
   "outputs": [
    {
     "name": "stdout",
     "output_type": "stream",
     "text": [
      "NM_sl.mat  S5_sl.mat  SB_sl.mat  SZ_sl.mat  TS_sl.mat\r\n",
      "RZ_sl.mat  S6_sl.mat  SM_sl.mat  TM_sl.mat  VB_sl.mat\r\n"
     ]
    }
   ],
   "source": [
    "ls mat-files/"
   ]
  },
  {
   "cell_type": "code",
   "execution_count": 384,
   "metadata": {},
   "outputs": [],
   "source": [
    "eeg_dict = scipy.io.loadmat('./mat-files/RZ_sl.mat')"
   ]
  },
  {
   "cell_type": "code",
   "execution_count": 385,
   "metadata": {},
   "outputs": [],
   "source": [
    "eegData = eeg_dict['eegmat']"
   ]
  },
  {
   "cell_type": "code",
   "execution_count": 387,
   "metadata": {},
   "outputs": [],
   "source": [
    "ShannonRes = eeg.shannonEntropy(eegData, bin_min=-200, bin_max=200, binWidth=2)"
   ]
  },
  {
   "cell_type": "code",
   "execution_count": 390,
   "metadata": {},
   "outputs": [],
   "source": [
    "fs = 100"
   ]
  },
  {
   "cell_type": "code",
   "execution_count": 391,
   "metadata": {},
   "outputs": [
    {
     "name": "stdout",
     "output_type": "stream",
     "text": [
      "./mat-files/SZ_sl.mat\n"
     ]
    },
    {
     "name": "stderr",
     "output_type": "stream",
     "text": [
      "/home/sadisari/Projects/attention-capacity-eeg/EEGExtract.py:422: RuntimeWarning: Mean of empty slice\n",
      "  volt_res = np.nanmean(eegFilt,axis=1)\n"
     ]
    },
    {
     "name": "stdout",
     "output_type": "stream",
     "text": [
      "./mat-files/NM_sl.mat\n",
      "./mat-files/S6_sl.mat\n",
      "./mat-files/S5_sl.mat\n",
      "./mat-files/SM_sl.mat\n",
      "./mat-files/VB_sl.mat\n",
      "./mat-files/TM_sl.mat\n",
      "./mat-files/SB_sl.mat\n",
      "./mat-files/RZ_sl.mat\n",
      "./mat-files/TS_sl.mat\n"
     ]
    }
   ],
   "source": [
    "all_features = []\n",
    "for file in glob.glob('./mat-files/*.mat'):\n",
    "    features = []\n",
    "    print(file)\n",
    "    eeg_dict = scipy.io.loadmat(file)\n",
    "    # eegData: 3D np array [chans x ms x epochs]\n",
    "    eegData = eeg_dict['eegmat']\n",
    "    #Shannon Entropy\n",
    "    ShannonRes = eeg.shannonEntropy(eegData, bin_min=-200, bin_max=200, binWidth=2)\n",
    "    features.append(ShannonRes)\n",
    "    # Subband Information Quantity\n",
    "    # delta (0.5–4 Hz)\n",
    "    eegData_delta = eeg.filt_data(eegData, 0.5, 4, fs)\n",
    "    ShannonRes_delta = eeg.shannonEntropy(eegData_delta, bin_min=-200, bin_max=200, binWidth=2)\n",
    "    features.append(ShannonRes_delta)\n",
    "    # theta (4–8 Hz)\n",
    "    eegData_theta = eeg.filt_data(eegData, 4, 8, fs)\n",
    "    ShannonRes_theta = eeg.shannonEntropy(eegData_theta, bin_min=-200, bin_max=200, binWidth=2)\n",
    "    features.append(ShannonRes_theta)\n",
    "    # Lyapunov Exponent\n",
    "    LyapunovRes = eeg.lyapunov(eegData)\n",
    "    features.append(LyapunovRes)\n",
    "    # False Nearest Neighbor\n",
    "    FalseNnRes = eeg.falseNearestNeighbor(eegData)\n",
    "    features.append(FalseNnRes/(10*np.e**40))\n",
    "    # δ band Power\n",
    "    bandPwr_delta = eeg.bandPower(eegData, 0.5, 4, fs)\n",
    "    features.append(bandPwr_delta/(10*np.e**40))\n",
    "    # θ band Power\n",
    "    bandPwr_theta = eeg.bandPower(eegData, 4, 8, fs)\n",
    "    features.append(bandPwr_theta)\n",
    "    # Standard Deviation\n",
    "    std_res = eeg.eegStd(eegData)\n",
    "    features.append(std_res)\n",
    "    # Voltage < 5μ\n",
    "    volt05_res = eeg.eegVoltage(eegData,voltage=5)\n",
    "    features.append(volt05_res)\n",
    "    # Voltage < 10μ\n",
    "    volt10_res = eeg.eegVoltage(eegData,voltage=10)\n",
    "    features.append(volt10_res)\n",
    "    # Voltage < 20μ\n",
    "    volt20_res = eeg.eegVoltage(eegData,voltage=20)\n",
    "    features.append(volt20_res)\n",
    "    all_features.append(features)"
   ]
  },
  {
   "cell_type": "code",
   "execution_count": 345,
   "metadata": {},
   "outputs": [
    {
     "data": {
      "text/plain": [
       "array([[3.19880616e-09, 5.53623996e-09, 5.52815181e-12, ...,\n",
       "        5.18787670e-12, 3.46716102e-11, 9.33216064e-12],\n",
       "       [6.35868658e-11, 1.44603367e-10, 2.00426935e-11, ...,\n",
       "        1.23321321e-11, 1.40070448e-11, 1.13501920e-11],\n",
       "       [1.13186686e-10, 1.72754711e-10, 1.32514677e-11, ...,\n",
       "        3.80739895e-12, 2.58850732e-12, 1.65031757e-11],\n",
       "       ...,\n",
       "       [2.51713704e-09, 4.03991175e-09, 4.23821724e-12, ...,\n",
       "        1.15672173e-11, 2.44537978e-11, 1.25002145e-11],\n",
       "       [4.14073400e-08, 7.11197352e-08, 1.30387838e-10, ...,\n",
       "        4.21345383e-11, 7.69354728e-11, 4.25660590e-11],\n",
       "       [1.44470158e-09, 1.75749868e-09, 2.94239465e-10, ...,\n",
       "        2.69309771e-11, 4.01812925e-11, 2.55520661e-11]])"
      ]
     },
     "execution_count": 345,
     "metadata": {},
     "output_type": "execute_result"
    }
   ],
   "source": [
    "bandPwr_delta/(10*np.e**20)"
   ]
  },
  {
   "cell_type": "code",
   "execution_count": 361,
   "metadata": {},
   "outputs": [
    {
     "data": {
      "text/plain": [
       "14"
      ]
     },
     "execution_count": 361,
     "metadata": {},
     "output_type": "execute_result"
    }
   ],
   "source": [
    "len(all_features)"
   ]
  },
  {
   "cell_type": "code",
   "execution_count": 362,
   "metadata": {},
   "outputs": [
    {
     "name": "stderr",
     "output_type": "stream",
     "text": [
      "/home/sadisari/anaconda3/envs/kerasGpu_env/lib/python3.6/site-packages/numpy/core/_asarray.py:83: VisibleDeprecationWarning: Creating an ndarray from ragged nested sequences (which is a list-or-tuple of lists-or-tuples-or ndarrays with different lengths or shapes) is deprecated. If you meant to do this, you must specify 'dtype=object' when creating the ndarray\n",
      "  return array(a, dtype, copy=False, order=order)\n"
     ]
    },
    {
     "ename": "ValueError",
     "evalue": "could not broadcast input array from shape (65,840) into shape (65)",
     "output_type": "error",
     "traceback": [
      "\u001b[0;31m---------------------------------------------------------------------------\u001b[0m",
      "\u001b[0;31mValueError\u001b[0m                                Traceback (most recent call last)",
      "\u001b[0;32m<ipython-input-362-f4ad89ea0ff4>\u001b[0m in \u001b[0;36m<module>\u001b[0;34m()\u001b[0m\n\u001b[0;32m----> 1\u001b[0;31m \u001b[0marr_fearures\u001b[0m \u001b[0;34m=\u001b[0m \u001b[0mnp\u001b[0m\u001b[0;34m.\u001b[0m\u001b[0masarray\u001b[0m\u001b[0;34m(\u001b[0m\u001b[0mall_features\u001b[0m\u001b[0;34m)\u001b[0m\u001b[0;34m\u001b[0m\u001b[0;34m\u001b[0m\u001b[0m\n\u001b[0m",
      "\u001b[0;32m/home/sadisari/anaconda3/envs/kerasGpu_env/lib/python3.6/site-packages/numpy/core/_asarray.py\u001b[0m in \u001b[0;36masarray\u001b[0;34m(a, dtype, order)\u001b[0m\n\u001b[1;32m     81\u001b[0m \u001b[0;34m\u001b[0m\u001b[0m\n\u001b[1;32m     82\u001b[0m     \"\"\"\n\u001b[0;32m---> 83\u001b[0;31m     \u001b[0;32mreturn\u001b[0m \u001b[0marray\u001b[0m\u001b[0;34m(\u001b[0m\u001b[0ma\u001b[0m\u001b[0;34m,\u001b[0m \u001b[0mdtype\u001b[0m\u001b[0;34m,\u001b[0m \u001b[0mcopy\u001b[0m\u001b[0;34m=\u001b[0m\u001b[0;32mFalse\u001b[0m\u001b[0;34m,\u001b[0m \u001b[0morder\u001b[0m\u001b[0;34m=\u001b[0m\u001b[0morder\u001b[0m\u001b[0;34m)\u001b[0m\u001b[0;34m\u001b[0m\u001b[0;34m\u001b[0m\u001b[0m\n\u001b[0m\u001b[1;32m     84\u001b[0m \u001b[0;34m\u001b[0m\u001b[0m\n\u001b[1;32m     85\u001b[0m \u001b[0;34m\u001b[0m\u001b[0m\n",
      "\u001b[0;31mValueError\u001b[0m: could not broadcast input array from shape (65,840) into shape (65)"
     ]
    }
   ],
   "source": [
    "arr_fearures = np.asarray(all_features)"
   ]
  },
  {
   "cell_type": "code",
   "execution_count": 392,
   "metadata": {},
   "outputs": [],
   "source": [
    "arr_fearures_all = [np.asarray(features_arr) for features_arr in all_features]"
   ]
  },
  {
   "cell_type": "code",
   "execution_count": 393,
   "metadata": {},
   "outputs": [
    {
     "data": {
      "text/plain": [
       "(11, 65, 840)"
      ]
     },
     "execution_count": 393,
     "metadata": {},
     "output_type": "execute_result"
    }
   ],
   "source": [
    "arr_fearures_all[2].shape"
   ]
  },
  {
   "cell_type": "code",
   "execution_count": 379,
   "metadata": {},
   "outputs": [],
   "source": [
    "import csv\n",
    "with open(\"features.csv\", \"w\") as f:\n",
    "    wr = csv.writer(f)\n",
    "    wr.writerows(all_features)"
   ]
  },
  {
   "cell_type": "code",
   "execution_count": 380,
   "metadata": {},
   "outputs": [],
   "source": [
    "from pathlib import Path"
   ]
  },
  {
   "cell_type": "code",
   "execution_count": 394,
   "metadata": {},
   "outputs": [
    {
     "name": "stdout",
     "output_type": "stream",
     "text": [
      "SZ_sl\n",
      "NM_sl\n",
      "S6_sl\n",
      "S5_sl\n",
      "SM_sl\n",
      "VB_sl\n",
      "TM_sl\n",
      "SB_sl\n",
      "RZ_sl\n",
      "TS_sl\n"
     ]
    }
   ],
   "source": [
    "for ii,file in enumerate(glob.glob('./mat-files/*.mat')):\n",
    "    print(Path(file).stem)\n",
    "    outfile = './feature-files/'+Path(file).stem+'.npy'\n",
    "    np.save(outfile, np.asarray(all_features[ii]))"
   ]
  },
  {
   "cell_type": "code",
   "execution_count": 395,
   "metadata": {},
   "outputs": [
    {
     "name": "stdout",
     "output_type": "stream",
     "text": [
      "Model: \"sequential_177\"\n",
      "_________________________________________________________________\n",
      "Layer (type)                 Output Shape              Param #   \n",
      "=================================================================\n",
      "dense_1239 (Dense)           (None, 715)               511940    \n",
      "_________________________________________________________________\n",
      "dropout_1062 (Dropout)       (None, 715)               0         \n",
      "_________________________________________________________________\n",
      "dense_1240 (Dense)           (None, 715)               511940    \n",
      "_________________________________________________________________\n",
      "dropout_1063 (Dropout)       (None, 715)               0         \n",
      "_________________________________________________________________\n",
      "dense_1241 (Dense)           (None, 64)                45824     \n",
      "_________________________________________________________________\n",
      "dropout_1064 (Dropout)       (None, 64)                0         \n",
      "_________________________________________________________________\n",
      "dense_1242 (Dense)           (None, 32)                2080      \n",
      "_________________________________________________________________\n",
      "dropout_1065 (Dropout)       (None, 32)                0         \n",
      "_________________________________________________________________\n",
      "dense_1243 (Dense)           (None, 32)                1056      \n",
      "_________________________________________________________________\n",
      "dropout_1066 (Dropout)       (None, 32)                0         \n",
      "_________________________________________________________________\n",
      "dense_1244 (Dense)           (None, 64)                2112      \n",
      "_________________________________________________________________\n",
      "dropout_1067 (Dropout)       (None, 64)                0         \n",
      "_________________________________________________________________\n",
      "dense_1245 (Dense)           (None, 715)               46475     \n",
      "=================================================================\n",
      "Total params: 1,121,427\n",
      "Trainable params: 1,121,427\n",
      "Non-trainable params: 0\n",
      "_________________________________________________________________\n",
      "None\n",
      "Epoch 1/20\n",
      "24/24 [==============================] - 0s 8ms/step - loss: 35.4246 - val_loss: 26.4616\n",
      "Epoch 2/20\n",
      "24/24 [==============================] - 1s 36ms/step - loss: 22.7025 - val_loss: 18.3605\n",
      "Epoch 3/20\n",
      "24/24 [==============================] - 0s 4ms/step - loss: 11.4283 - val_loss: 7.7520\n",
      "Epoch 4/20\n",
      "24/24 [==============================] - 0s 4ms/step - loss: 6.3074 - val_loss: 5.9875\n",
      "Epoch 5/20\n",
      "24/24 [==============================] - 0s 4ms/step - loss: 4.8232 - val_loss: 4.9913\n",
      "Epoch 6/20\n",
      "24/24 [==============================] - 0s 4ms/step - loss: 4.0342 - val_loss: 4.3972\n",
      "Epoch 7/20\n",
      "24/24 [==============================] - 0s 4ms/step - loss: 3.4808 - val_loss: 3.8840\n",
      "Epoch 8/20\n",
      "24/24 [==============================] - 0s 4ms/step - loss: 3.0724 - val_loss: 3.5579\n",
      "Epoch 9/20\n",
      "24/24 [==============================] - 0s 5ms/step - loss: 2.7539 - val_loss: 3.2643\n",
      "Epoch 10/20\n",
      "24/24 [==============================] - 0s 5ms/step - loss: 2.5234 - val_loss: 3.0073\n",
      "Epoch 11/20\n",
      "24/24 [==============================] - 0s 5ms/step - loss: 2.3147 - val_loss: 2.7843\n",
      "Epoch 12/20\n",
      "24/24 [==============================] - 0s 5ms/step - loss: 2.1551 - val_loss: 2.6168\n",
      "Epoch 13/20\n",
      "24/24 [==============================] - 0s 4ms/step - loss: 2.0200 - val_loss: 2.4715\n",
      "Epoch 14/20\n",
      "24/24 [==============================] - 0s 4ms/step - loss: 1.8990 - val_loss: 2.3562\n",
      "Epoch 15/20\n",
      "24/24 [==============================] - 0s 4ms/step - loss: 1.8243 - val_loss: 2.2479\n",
      "Epoch 16/20\n",
      "24/24 [==============================] - 0s 4ms/step - loss: 1.7588 - val_loss: 2.1640\n",
      "Epoch 17/20\n",
      "24/24 [==============================] - 0s 4ms/step - loss: 1.6923 - val_loss: 2.0865\n",
      "Epoch 18/20\n",
      "24/24 [==============================] - 0s 4ms/step - loss: 1.6258 - val_loss: 1.9965\n",
      "Epoch 19/20\n",
      "24/24 [==============================] - 0s 4ms/step - loss: 1.5778 - val_loss: 1.9471\n",
      "Epoch 20/20\n",
      "24/24 [==============================] - 0s 5ms/step - loss: 1.5383 - val_loss: 1.8952\n",
      "Model: \"sequential_178\"\n",
      "_________________________________________________________________\n",
      "Layer (type)                 Output Shape              Param #   \n",
      "=================================================================\n",
      "dense_1246 (Dense)           (None, 715)               511940    \n",
      "_________________________________________________________________\n",
      "dropout_1068 (Dropout)       (None, 715)               0         \n",
      "_________________________________________________________________\n",
      "dense_1247 (Dense)           (None, 715)               511940    \n",
      "_________________________________________________________________\n",
      "dropout_1069 (Dropout)       (None, 715)               0         \n",
      "_________________________________________________________________\n",
      "dense_1248 (Dense)           (None, 64)                45824     \n",
      "_________________________________________________________________\n",
      "dropout_1070 (Dropout)       (None, 64)                0         \n",
      "_________________________________________________________________\n",
      "dense_1249 (Dense)           (None, 32)                2080      \n",
      "_________________________________________________________________\n",
      "dropout_1071 (Dropout)       (None, 32)                0         \n",
      "_________________________________________________________________\n",
      "dense_1250 (Dense)           (None, 32)                1056      \n",
      "_________________________________________________________________\n",
      "dropout_1072 (Dropout)       (None, 32)                0         \n",
      "_________________________________________________________________\n",
      "dense_1251 (Dense)           (None, 64)                2112      \n",
      "_________________________________________________________________\n",
      "dropout_1073 (Dropout)       (None, 64)                0         \n",
      "_________________________________________________________________\n",
      "dense_1252 (Dense)           (None, 715)               46475     \n",
      "=================================================================\n",
      "Total params: 1,121,427\n",
      "Trainable params: 1,121,427\n",
      "Non-trainable params: 0\n",
      "_________________________________________________________________\n",
      "None\n",
      "Epoch 1/20\n",
      "24/24 [==============================] - 0s 7ms/step - loss: 36.9141 - val_loss: 28.0037\n",
      "Epoch 2/20\n",
      "24/24 [==============================] - 0s 4ms/step - loss: 22.2677 - val_loss: 17.0736\n",
      "Epoch 3/20\n",
      "24/24 [==============================] - 0s 4ms/step - loss: 10.0531 - val_loss: 8.6962\n",
      "Epoch 4/20\n",
      "24/24 [==============================] - 0s 4ms/step - loss: 6.1293 - val_loss: 6.7736\n",
      "Epoch 5/20\n",
      "24/24 [==============================] - 0s 4ms/step - loss: 4.6539 - val_loss: 5.7913\n",
      "Epoch 6/20\n",
      "24/24 [==============================] - 0s 4ms/step - loss: 3.8584 - val_loss: 5.0621\n",
      "Epoch 7/20\n",
      "24/24 [==============================] - 0s 4ms/step - loss: 3.3277 - val_loss: 4.6233\n",
      "Epoch 8/20\n",
      "24/24 [==============================] - 0s 5ms/step - loss: 2.9328 - val_loss: 4.1528\n",
      "Epoch 9/20\n",
      "24/24 [==============================] - 0s 6ms/step - loss: 2.6141 - val_loss: 3.8272\n",
      "Epoch 10/20\n",
      "24/24 [==============================] - 0s 5ms/step - loss: 2.3933 - val_loss: 3.5580\n",
      "Epoch 11/20\n",
      "24/24 [==============================] - 0s 4ms/step - loss: 2.1957 - val_loss: 3.4220\n",
      "Epoch 12/20\n",
      "24/24 [==============================] - 0s 4ms/step - loss: 2.0735 - val_loss: 3.1433\n",
      "Epoch 13/20\n",
      "24/24 [==============================] - 0s 5ms/step - loss: 1.9505 - val_loss: 3.0059\n",
      "Epoch 14/20\n",
      "24/24 [==============================] - 0s 5ms/step - loss: 1.8571 - val_loss: 2.8768\n",
      "Epoch 15/20\n",
      "24/24 [==============================] - 0s 5ms/step - loss: 1.7751 - val_loss: 2.7542\n",
      "Epoch 16/20\n",
      "24/24 [==============================] - 0s 4ms/step - loss: 1.7030 - val_loss: 2.6670\n",
      "Epoch 17/20\n",
      "24/24 [==============================] - 0s 4ms/step - loss: 1.6547 - val_loss: 2.5740\n",
      "Epoch 18/20\n",
      "24/24 [==============================] - 0s 4ms/step - loss: 1.5922 - val_loss: 2.5014\n",
      "Epoch 19/20\n",
      "24/24 [==============================] - 0s 4ms/step - loss: 1.5549 - val_loss: 2.4200\n",
      "Epoch 20/20\n",
      "24/24 [==============================] - 0s 4ms/step - loss: 1.5281 - val_loss: 2.3669\n",
      "Model: \"sequential_179\"\n",
      "_________________________________________________________________\n",
      "Layer (type)                 Output Shape              Param #   \n",
      "=================================================================\n",
      "dense_1253 (Dense)           (None, 715)               511940    \n",
      "_________________________________________________________________\n",
      "dropout_1074 (Dropout)       (None, 715)               0         \n",
      "_________________________________________________________________\n",
      "dense_1254 (Dense)           (None, 715)               511940    \n",
      "_________________________________________________________________\n",
      "dropout_1075 (Dropout)       (None, 715)               0         \n",
      "_________________________________________________________________\n",
      "dense_1255 (Dense)           (None, 64)                45824     \n",
      "_________________________________________________________________\n",
      "dropout_1076 (Dropout)       (None, 64)                0         \n",
      "_________________________________________________________________\n",
      "dense_1256 (Dense)           (None, 32)                2080      \n",
      "_________________________________________________________________\n",
      "dropout_1077 (Dropout)       (None, 32)                0         \n",
      "_________________________________________________________________\n",
      "dense_1257 (Dense)           (None, 32)                1056      \n",
      "_________________________________________________________________\n",
      "dropout_1078 (Dropout)       (None, 32)                0         \n",
      "_________________________________________________________________\n",
      "dense_1258 (Dense)           (None, 64)                2112      \n",
      "_________________________________________________________________\n",
      "dropout_1079 (Dropout)       (None, 64)                0         \n",
      "_________________________________________________________________\n",
      "dense_1259 (Dense)           (None, 715)               46475     \n",
      "=================================================================\n",
      "Total params: 1,121,427\n",
      "Trainable params: 1,121,427\n",
      "Non-trainable params: 0\n",
      "_________________________________________________________________\n",
      "None\n",
      "Epoch 1/20\n"
     ]
    },
    {
     "name": "stdout",
     "output_type": "stream",
     "text": [
      "24/24 [==============================] - 0s 7ms/step - loss: 36.3270 - val_loss: 27.5870\n",
      "Epoch 2/20\n",
      "24/24 [==============================] - 0s 4ms/step - loss: 19.7189 - val_loss: 10.7891\n",
      "Epoch 3/20\n",
      "24/24 [==============================] - 0s 4ms/step - loss: 8.0950 - val_loss: 6.7383\n",
      "Epoch 4/20\n",
      "24/24 [==============================] - 0s 3ms/step - loss: 5.1163 - val_loss: 5.4682\n",
      "Epoch 5/20\n",
      "24/24 [==============================] - 0s 4ms/step - loss: 4.0050 - val_loss: 4.8251\n",
      "Epoch 6/20\n",
      "24/24 [==============================] - 0s 3ms/step - loss: 3.3753 - val_loss: 4.3783\n",
      "Epoch 7/20\n",
      "24/24 [==============================] - 0s 4ms/step - loss: 2.9486 - val_loss: 4.2493\n",
      "Epoch 8/20\n",
      "24/24 [==============================] - 0s 7ms/step - loss: 2.6207 - val_loss: 3.9259\n",
      "Epoch 9/20\n",
      "24/24 [==============================] - 0s 5ms/step - loss: 2.4105 - val_loss: 3.7685\n",
      "Epoch 10/20\n",
      "24/24 [==============================] - 0s 5ms/step - loss: 2.2233 - val_loss: 3.4110\n",
      "Epoch 11/20\n",
      "24/24 [==============================] - 0s 5ms/step - loss: 2.0992 - val_loss: 3.3341\n",
      "Epoch 12/20\n",
      "24/24 [==============================] - 0s 4ms/step - loss: 1.9617 - val_loss: 3.2804\n",
      "Epoch 13/20\n",
      "24/24 [==============================] - 0s 5ms/step - loss: 1.8558 - val_loss: 3.2197\n",
      "Epoch 14/20\n",
      "24/24 [==============================] - 0s 4ms/step - loss: 1.7859 - val_loss: 3.0764\n",
      "Epoch 15/20\n",
      "24/24 [==============================] - 0s 5ms/step - loss: 1.7179 - val_loss: 2.9154\n",
      "Epoch 16/20\n",
      "24/24 [==============================] - 0s 5ms/step - loss: 1.6583 - val_loss: 2.9145\n",
      "Epoch 17/20\n",
      "24/24 [==============================] - 0s 5ms/step - loss: 1.5990 - val_loss: 2.8831\n",
      "Epoch 18/20\n",
      "24/24 [==============================] - 0s 4ms/step - loss: 1.5601 - val_loss: 2.7985\n",
      "Epoch 19/20\n",
      "24/24 [==============================] - 0s 4ms/step - loss: 1.5213 - val_loss: 2.7332\n",
      "Epoch 20/20\n",
      "24/24 [==============================] - 0s 6ms/step - loss: 1.4867 - val_loss: 2.7745\n",
      "Model: \"sequential_180\"\n",
      "_________________________________________________________________\n",
      "Layer (type)                 Output Shape              Param #   \n",
      "=================================================================\n",
      "dense_1260 (Dense)           (None, 715)               511940    \n",
      "_________________________________________________________________\n",
      "dropout_1080 (Dropout)       (None, 715)               0         \n",
      "_________________________________________________________________\n",
      "dense_1261 (Dense)           (None, 715)               511940    \n",
      "_________________________________________________________________\n",
      "dropout_1081 (Dropout)       (None, 715)               0         \n",
      "_________________________________________________________________\n",
      "dense_1262 (Dense)           (None, 64)                45824     \n",
      "_________________________________________________________________\n",
      "dropout_1082 (Dropout)       (None, 64)                0         \n",
      "_________________________________________________________________\n",
      "dense_1263 (Dense)           (None, 32)                2080      \n",
      "_________________________________________________________________\n",
      "dropout_1083 (Dropout)       (None, 32)                0         \n",
      "_________________________________________________________________\n",
      "dense_1264 (Dense)           (None, 32)                1056      \n",
      "_________________________________________________________________\n",
      "dropout_1084 (Dropout)       (None, 32)                0         \n",
      "_________________________________________________________________\n",
      "dense_1265 (Dense)           (None, 64)                2112      \n",
      "_________________________________________________________________\n",
      "dropout_1085 (Dropout)       (None, 64)                0         \n",
      "_________________________________________________________________\n",
      "dense_1266 (Dense)           (None, 715)               46475     \n",
      "=================================================================\n",
      "Total params: 1,121,427\n",
      "Trainable params: 1,121,427\n",
      "Non-trainable params: 0\n",
      "_________________________________________________________________\n",
      "None\n",
      "Epoch 1/20\n",
      "24/24 [==============================] - 0s 11ms/step - loss: 53.2329 - val_loss: 33.1518\n",
      "Epoch 2/20\n",
      "24/24 [==============================] - 0s 5ms/step - loss: 29.8988 - val_loss: 24.0150\n",
      "Epoch 3/20\n",
      "24/24 [==============================] - 0s 5ms/step - loss: 15.6336 - val_loss: 11.1483\n",
      "Epoch 4/20\n",
      "24/24 [==============================] - 0s 5ms/step - loss: 8.2425 - val_loss: 8.6752\n",
      "Epoch 5/20\n",
      "24/24 [==============================] - 0s 5ms/step - loss: 6.2718 - val_loss: 7.4753\n",
      "Epoch 6/20\n",
      "24/24 [==============================] - 0s 5ms/step - loss: 5.1501 - val_loss: 6.5284\n",
      "Epoch 7/20\n",
      "24/24 [==============================] - 0s 6ms/step - loss: 4.4062 - val_loss: 5.8292\n",
      "Epoch 8/20\n",
      "24/24 [==============================] - 0s 5ms/step - loss: 3.7858 - val_loss: 5.3662\n",
      "Epoch 9/20\n",
      "24/24 [==============================] - 0s 5ms/step - loss: 3.4210 - val_loss: 4.8575\n",
      "Epoch 10/20\n",
      "24/24 [==============================] - 0s 5ms/step - loss: 3.0268 - val_loss: 4.6464\n",
      "Epoch 11/20\n",
      "24/24 [==============================] - 0s 5ms/step - loss: 2.7524 - val_loss: 4.4254\n",
      "Epoch 12/20\n",
      "24/24 [==============================] - 0s 4ms/step - loss: 2.5402 - val_loss: 4.1828\n",
      "Epoch 13/20\n",
      "24/24 [==============================] - 0s 4ms/step - loss: 2.3817 - val_loss: 4.1493\n",
      "Epoch 14/20\n",
      "24/24 [==============================] - 0s 5ms/step - loss: 2.2522 - val_loss: 3.8661\n",
      "Epoch 15/20\n",
      "24/24 [==============================] - 0s 5ms/step - loss: 2.0764 - val_loss: 3.8375\n",
      "Epoch 16/20\n",
      "24/24 [==============================] - 0s 4ms/step - loss: 1.9558 - val_loss: 3.4964\n",
      "Epoch 17/20\n",
      "24/24 [==============================] - 0s 6ms/step - loss: 1.8729 - val_loss: 3.4594\n",
      "Epoch 18/20\n",
      "24/24 [==============================] - 0s 5ms/step - loss: 1.8015 - val_loss: 3.3810\n",
      "Epoch 19/20\n",
      "24/24 [==============================] - 0s 5ms/step - loss: 1.7168 - val_loss: 3.2947\n",
      "Epoch 20/20\n",
      "24/24 [==============================] - 0s 5ms/step - loss: 1.6499 - val_loss: 3.2017\n",
      "Model: \"sequential_181\"\n",
      "_________________________________________________________________\n",
      "Layer (type)                 Output Shape              Param #   \n",
      "=================================================================\n",
      "dense_1267 (Dense)           (None, 715)               511940    \n",
      "_________________________________________________________________\n",
      "dropout_1086 (Dropout)       (None, 715)               0         \n",
      "_________________________________________________________________\n",
      "dense_1268 (Dense)           (None, 715)               511940    \n",
      "_________________________________________________________________\n",
      "dropout_1087 (Dropout)       (None, 715)               0         \n",
      "_________________________________________________________________\n",
      "dense_1269 (Dense)           (None, 64)                45824     \n",
      "_________________________________________________________________\n",
      "dropout_1088 (Dropout)       (None, 64)                0         \n",
      "_________________________________________________________________\n",
      "dense_1270 (Dense)           (None, 32)                2080      \n",
      "_________________________________________________________________\n",
      "dropout_1089 (Dropout)       (None, 32)                0         \n",
      "_________________________________________________________________\n",
      "dense_1271 (Dense)           (None, 32)                1056      \n",
      "_________________________________________________________________\n",
      "dropout_1090 (Dropout)       (None, 32)                0         \n",
      "_________________________________________________________________\n",
      "dense_1272 (Dense)           (None, 64)                2112      \n",
      "_________________________________________________________________\n",
      "dropout_1091 (Dropout)       (None, 64)                0         \n",
      "_________________________________________________________________\n",
      "dense_1273 (Dense)           (None, 715)               46475     \n",
      "=================================================================\n",
      "Total params: 1,121,427\n",
      "Trainable params: 1,121,427\n",
      "Non-trainable params: 0\n",
      "_________________________________________________________________\n",
      "None\n",
      "Epoch 1/20\n",
      "24/24 [==============================] - 0s 8ms/step - loss: 37.8776 - val_loss: 27.1823\n"
     ]
    },
    {
     "name": "stdout",
     "output_type": "stream",
     "text": [
      "Epoch 2/20\n",
      "24/24 [==============================] - 0s 5ms/step - loss: 23.0767 - val_loss: 15.3085\n",
      "Epoch 3/20\n",
      "24/24 [==============================] - 0s 4ms/step - loss: 10.9973 - val_loss: 8.1056\n",
      "Epoch 4/20\n",
      "24/24 [==============================] - 0s 4ms/step - loss: 6.5406 - val_loss: 6.2380\n",
      "Epoch 5/20\n",
      "24/24 [==============================] - 0s 5ms/step - loss: 5.0705 - val_loss: 5.3937\n",
      "Epoch 6/20\n",
      "24/24 [==============================] - 0s 5ms/step - loss: 4.1283 - val_loss: 4.5962\n",
      "Epoch 7/20\n",
      "24/24 [==============================] - 0s 4ms/step - loss: 3.5314 - val_loss: 4.2847\n",
      "Epoch 8/20\n",
      "24/24 [==============================] - 0s 4ms/step - loss: 3.0829 - val_loss: 3.7969\n",
      "Epoch 9/20\n",
      "24/24 [==============================] - 0s 4ms/step - loss: 2.7948 - val_loss: 3.4615\n",
      "Epoch 10/20\n",
      "24/24 [==============================] - 0s 4ms/step - loss: 2.5138 - val_loss: 3.2676\n",
      "Epoch 11/20\n",
      "24/24 [==============================] - 0s 7ms/step - loss: 2.3182 - val_loss: 3.0464\n",
      "Epoch 12/20\n",
      "24/24 [==============================] - 0s 5ms/step - loss: 2.1584 - val_loss: 2.8708\n",
      "Epoch 13/20\n",
      "24/24 [==============================] - 0s 6ms/step - loss: 2.0258 - val_loss: 2.7822\n",
      "Epoch 14/20\n",
      "24/24 [==============================] - 0s 5ms/step - loss: 1.9215 - val_loss: 2.6240\n",
      "Epoch 15/20\n",
      "24/24 [==============================] - 0s 5ms/step - loss: 1.8468 - val_loss: 2.5588\n",
      "Epoch 16/20\n",
      "24/24 [==============================] - 0s 4ms/step - loss: 1.7728 - val_loss: 2.4413\n",
      "Epoch 17/20\n",
      "24/24 [==============================] - 0s 5ms/step - loss: 1.7027 - val_loss: 2.3541\n",
      "Epoch 18/20\n",
      "24/24 [==============================] - 0s 5ms/step - loss: 1.6560 - val_loss: 2.2949\n",
      "Epoch 19/20\n",
      "24/24 [==============================] - 0s 4ms/step - loss: 1.6094 - val_loss: 2.1931\n",
      "Epoch 20/20\n",
      "24/24 [==============================] - 0s 4ms/step - loss: 1.5663 - val_loss: 2.1498\n",
      "Model: \"sequential_182\"\n",
      "_________________________________________________________________\n",
      "Layer (type)                 Output Shape              Param #   \n",
      "=================================================================\n",
      "dense_1274 (Dense)           (None, 715)               511940    \n",
      "_________________________________________________________________\n",
      "dropout_1092 (Dropout)       (None, 715)               0         \n",
      "_________________________________________________________________\n",
      "dense_1275 (Dense)           (None, 715)               511940    \n",
      "_________________________________________________________________\n",
      "dropout_1093 (Dropout)       (None, 715)               0         \n",
      "_________________________________________________________________\n",
      "dense_1276 (Dense)           (None, 64)                45824     \n",
      "_________________________________________________________________\n",
      "dropout_1094 (Dropout)       (None, 64)                0         \n",
      "_________________________________________________________________\n",
      "dense_1277 (Dense)           (None, 32)                2080      \n",
      "_________________________________________________________________\n",
      "dropout_1095 (Dropout)       (None, 32)                0         \n",
      "_________________________________________________________________\n",
      "dense_1278 (Dense)           (None, 32)                1056      \n",
      "_________________________________________________________________\n",
      "dropout_1096 (Dropout)       (None, 32)                0         \n",
      "_________________________________________________________________\n",
      "dense_1279 (Dense)           (None, 64)                2112      \n",
      "_________________________________________________________________\n",
      "dropout_1097 (Dropout)       (None, 64)                0         \n",
      "_________________________________________________________________\n",
      "dense_1280 (Dense)           (None, 715)               46475     \n",
      "=================================================================\n",
      "Total params: 1,121,427\n",
      "Trainable params: 1,121,427\n",
      "Non-trainable params: 0\n",
      "_________________________________________________________________\n",
      "None\n",
      "Epoch 1/20\n",
      "24/24 [==============================] - 0s 7ms/step - loss: 37.2718 - val_loss: 27.7188\n",
      "Epoch 2/20\n",
      "24/24 [==============================] - 0s 4ms/step - loss: 23.5107 - val_loss: 19.8008\n",
      "Epoch 3/20\n",
      "24/24 [==============================] - 0s 4ms/step - loss: 12.0132 - val_loss: 7.9469\n",
      "Epoch 4/20\n",
      "24/24 [==============================] - 0s 4ms/step - loss: 6.1571 - val_loss: 6.5374\n",
      "Epoch 5/20\n",
      "24/24 [==============================] - 0s 4ms/step - loss: 4.7493 - val_loss: 5.6153\n",
      "Epoch 6/20\n",
      "24/24 [==============================] - 0s 4ms/step - loss: 3.9397 - val_loss: 4.7844\n",
      "Epoch 7/20\n",
      "24/24 [==============================] - 0s 4ms/step - loss: 3.3777 - val_loss: 4.3810\n",
      "Epoch 8/20\n",
      "24/24 [==============================] - 0s 4ms/step - loss: 2.9590 - val_loss: 3.9781\n",
      "Epoch 9/20\n",
      "24/24 [==============================] - 0s 4ms/step - loss: 2.6582 - val_loss: 3.6599\n",
      "Epoch 10/20\n",
      "24/24 [==============================] - 0s 4ms/step - loss: 2.4353 - val_loss: 3.4463\n",
      "Epoch 11/20\n",
      "24/24 [==============================] - 0s 4ms/step - loss: 2.2598 - val_loss: 3.2656\n",
      "Epoch 12/20\n",
      "24/24 [==============================] - 0s 4ms/step - loss: 2.1037 - val_loss: 3.0324\n",
      "Epoch 13/20\n",
      "24/24 [==============================] - 0s 4ms/step - loss: 1.9728 - val_loss: 2.8965\n",
      "Epoch 14/20\n",
      "24/24 [==============================] - 0s 4ms/step - loss: 1.8827 - val_loss: 2.7710\n",
      "Epoch 15/20\n",
      "24/24 [==============================] - 0s 4ms/step - loss: 1.7925 - val_loss: 2.6542\n",
      "Epoch 16/20\n",
      "24/24 [==============================] - 0s 4ms/step - loss: 1.7266 - val_loss: 2.5626\n",
      "Epoch 17/20\n",
      "24/24 [==============================] - 0s 4ms/step - loss: 1.6740 - val_loss: 2.4732\n",
      "Epoch 18/20\n",
      "24/24 [==============================] - 0s 4ms/step - loss: 1.6236 - val_loss: 2.4111\n",
      "Epoch 19/20\n",
      "24/24 [==============================] - 0s 4ms/step - loss: 1.5833 - val_loss: 2.3478\n",
      "Epoch 20/20\n",
      "24/24 [==============================] - 0s 4ms/step - loss: 1.5460 - val_loss: 2.2943\n",
      "Model: \"sequential_183\"\n",
      "_________________________________________________________________\n",
      "Layer (type)                 Output Shape              Param #   \n",
      "=================================================================\n",
      "dense_1281 (Dense)           (None, 715)               511940    \n",
      "_________________________________________________________________\n",
      "dropout_1098 (Dropout)       (None, 715)               0         \n",
      "_________________________________________________________________\n",
      "dense_1282 (Dense)           (None, 715)               511940    \n",
      "_________________________________________________________________\n",
      "dropout_1099 (Dropout)       (None, 715)               0         \n",
      "_________________________________________________________________\n",
      "dense_1283 (Dense)           (None, 64)                45824     \n",
      "_________________________________________________________________\n",
      "dropout_1100 (Dropout)       (None, 64)                0         \n",
      "_________________________________________________________________\n",
      "dense_1284 (Dense)           (None, 32)                2080      \n",
      "_________________________________________________________________\n",
      "dropout_1101 (Dropout)       (None, 32)                0         \n",
      "_________________________________________________________________\n",
      "dense_1285 (Dense)           (None, 32)                1056      \n",
      "_________________________________________________________________\n",
      "dropout_1102 (Dropout)       (None, 32)                0         \n",
      "_________________________________________________________________\n",
      "dense_1286 (Dense)           (None, 64)                2112      \n",
      "_________________________________________________________________\n",
      "dropout_1103 (Dropout)       (None, 64)                0         \n",
      "_________________________________________________________________\n",
      "dense_1287 (Dense)           (None, 715)               46475     \n",
      "=================================================================\n",
      "Total params: 1,121,427\n",
      "Trainable params: 1,121,427\n",
      "Non-trainable params: 0\n",
      "_________________________________________________________________\n",
      "None\n",
      "Epoch 1/20\n",
      "19/19 [==============================] - 0s 8ms/step - loss: 39.6446 - val_loss: 29.9840\n",
      "Epoch 2/20\n"
     ]
    },
    {
     "name": "stdout",
     "output_type": "stream",
     "text": [
      "19/19 [==============================] - 0s 4ms/step - loss: 25.8472 - val_loss: 23.8888\n",
      "Epoch 3/20\n",
      "19/19 [==============================] - 0s 4ms/step - loss: 18.0622 - val_loss: 13.8175\n",
      "Epoch 4/20\n",
      "19/19 [==============================] - 0s 4ms/step - loss: 8.4904 - val_loss: 8.7910\n",
      "Epoch 5/20\n",
      "19/19 [==============================] - 0s 4ms/step - loss: 6.1491 - val_loss: 7.4725\n",
      "Epoch 6/20\n",
      "19/19 [==============================] - 0s 4ms/step - loss: 4.9531 - val_loss: 6.4537\n",
      "Epoch 7/20\n",
      "19/19 [==============================] - 0s 4ms/step - loss: 4.2176 - val_loss: 5.8070\n",
      "Epoch 8/20\n",
      "19/19 [==============================] - 0s 4ms/step - loss: 3.6664 - val_loss: 5.4476\n",
      "Epoch 9/20\n",
      "19/19 [==============================] - 0s 4ms/step - loss: 3.2870 - val_loss: 4.9743\n",
      "Epoch 10/20\n",
      "19/19 [==============================] - 0s 4ms/step - loss: 2.9564 - val_loss: 4.6230\n",
      "Epoch 11/20\n",
      "19/19 [==============================] - 0s 4ms/step - loss: 2.7171 - val_loss: 4.3857\n",
      "Epoch 12/20\n",
      "19/19 [==============================] - 0s 4ms/step - loss: 2.4888 - val_loss: 4.1425\n",
      "Epoch 13/20\n",
      "19/19 [==============================] - 0s 4ms/step - loss: 2.3195 - val_loss: 3.9067\n",
      "Epoch 14/20\n",
      "19/19 [==============================] - 0s 4ms/step - loss: 2.1840 - val_loss: 3.7516\n",
      "Epoch 15/20\n",
      "19/19 [==============================] - 0s 4ms/step - loss: 2.0765 - val_loss: 3.6264\n",
      "Epoch 16/20\n",
      "19/19 [==============================] - 0s 4ms/step - loss: 1.9814 - val_loss: 3.4756\n",
      "Epoch 17/20\n",
      "19/19 [==============================] - 0s 4ms/step - loss: 1.8991 - val_loss: 3.3523\n",
      "Epoch 18/20\n",
      "19/19 [==============================] - 0s 4ms/step - loss: 1.8251 - val_loss: 3.2499\n",
      "Epoch 19/20\n",
      "19/19 [==============================] - 0s 4ms/step - loss: 1.7656 - val_loss: 3.1411\n",
      "Epoch 20/20\n",
      "19/19 [==============================] - 0s 4ms/step - loss: 1.7225 - val_loss: 3.0762\n",
      "Model: \"sequential_184\"\n",
      "_________________________________________________________________\n",
      "Layer (type)                 Output Shape              Param #   \n",
      "=================================================================\n",
      "dense_1288 (Dense)           (None, 715)               511940    \n",
      "_________________________________________________________________\n",
      "dropout_1104 (Dropout)       (None, 715)               0         \n",
      "_________________________________________________________________\n",
      "dense_1289 (Dense)           (None, 715)               511940    \n",
      "_________________________________________________________________\n",
      "dropout_1105 (Dropout)       (None, 715)               0         \n",
      "_________________________________________________________________\n",
      "dense_1290 (Dense)           (None, 64)                45824     \n",
      "_________________________________________________________________\n",
      "dropout_1106 (Dropout)       (None, 64)                0         \n",
      "_________________________________________________________________\n",
      "dense_1291 (Dense)           (None, 32)                2080      \n",
      "_________________________________________________________________\n",
      "dropout_1107 (Dropout)       (None, 32)                0         \n",
      "_________________________________________________________________\n",
      "dense_1292 (Dense)           (None, 32)                1056      \n",
      "_________________________________________________________________\n",
      "dropout_1108 (Dropout)       (None, 32)                0         \n",
      "_________________________________________________________________\n",
      "dense_1293 (Dense)           (None, 64)                2112      \n",
      "_________________________________________________________________\n",
      "dropout_1109 (Dropout)       (None, 64)                0         \n",
      "_________________________________________________________________\n",
      "dense_1294 (Dense)           (None, 715)               46475     \n",
      "=================================================================\n",
      "Total params: 1,121,427\n",
      "Trainable params: 1,121,427\n",
      "Non-trainable params: 0\n",
      "_________________________________________________________________\n",
      "None\n",
      "Epoch 1/20\n",
      "24/24 [==============================] - 0s 7ms/step - loss: 33.5313 - val_loss: 25.0994\n",
      "Epoch 2/20\n",
      "24/24 [==============================] - 0s 4ms/step - loss: 21.5810 - val_loss: 17.7480\n",
      "Epoch 3/20\n",
      "24/24 [==============================] - 0s 4ms/step - loss: 11.1854 - val_loss: 6.9348\n",
      "Epoch 4/20\n",
      "24/24 [==============================] - 0s 4ms/step - loss: 5.4288 - val_loss: 5.8213\n",
      "Epoch 5/20\n",
      "24/24 [==============================] - 0s 4ms/step - loss: 4.3261 - val_loss: 4.2773\n",
      "Epoch 6/20\n",
      "24/24 [==============================] - 0s 4ms/step - loss: 3.5705 - val_loss: 3.8841\n",
      "Epoch 7/20\n",
      "24/24 [==============================] - 0s 4ms/step - loss: 3.0829 - val_loss: 3.4456\n",
      "Epoch 8/20\n",
      "24/24 [==============================] - 0s 4ms/step - loss: 2.7849 - val_loss: 3.1810\n",
      "Epoch 9/20\n",
      "24/24 [==============================] - 0s 4ms/step - loss: 2.5180 - val_loss: 2.8829\n",
      "Epoch 10/20\n",
      "24/24 [==============================] - 0s 4ms/step - loss: 2.3050 - val_loss: 2.7409\n",
      "Epoch 11/20\n",
      "24/24 [==============================] - 0s 4ms/step - loss: 2.1657 - val_loss: 2.5735\n",
      "Epoch 12/20\n",
      "24/24 [==============================] - 0s 4ms/step - loss: 2.0281 - val_loss: 2.4132\n",
      "Epoch 13/20\n",
      "24/24 [==============================] - 0s 4ms/step - loss: 1.8964 - val_loss: 2.2748\n",
      "Epoch 14/20\n",
      "24/24 [==============================] - 0s 5ms/step - loss: 1.8222 - val_loss: 2.1532\n",
      "Epoch 15/20\n",
      "24/24 [==============================] - 0s 4ms/step - loss: 1.7191 - val_loss: 2.0912\n",
      "Epoch 16/20\n",
      "24/24 [==============================] - 0s 4ms/step - loss: 1.6504 - val_loss: 2.0090\n",
      "Epoch 17/20\n",
      "24/24 [==============================] - 0s 4ms/step - loss: 1.5926 - val_loss: 1.9435\n",
      "Epoch 18/20\n",
      "24/24 [==============================] - 0s 4ms/step - loss: 1.5380 - val_loss: 1.8570\n",
      "Epoch 19/20\n",
      "24/24 [==============================] - 0s 4ms/step - loss: 1.5014 - val_loss: 1.8045\n",
      "Epoch 20/20\n",
      "24/24 [==============================] - 0s 4ms/step - loss: 1.4648 - val_loss: 1.7680\n",
      "Model: \"sequential_185\"\n",
      "_________________________________________________________________\n",
      "Layer (type)                 Output Shape              Param #   \n",
      "=================================================================\n",
      "dense_1295 (Dense)           (None, 715)               511940    \n",
      "_________________________________________________________________\n",
      "dropout_1110 (Dropout)       (None, 715)               0         \n",
      "_________________________________________________________________\n",
      "dense_1296 (Dense)           (None, 715)               511940    \n",
      "_________________________________________________________________\n",
      "dropout_1111 (Dropout)       (None, 715)               0         \n",
      "_________________________________________________________________\n",
      "dense_1297 (Dense)           (None, 64)                45824     \n",
      "_________________________________________________________________\n",
      "dropout_1112 (Dropout)       (None, 64)                0         \n",
      "_________________________________________________________________\n",
      "dense_1298 (Dense)           (None, 32)                2080      \n",
      "_________________________________________________________________\n",
      "dropout_1113 (Dropout)       (None, 32)                0         \n",
      "_________________________________________________________________\n",
      "dense_1299 (Dense)           (None, 32)                1056      \n",
      "_________________________________________________________________\n",
      "dropout_1114 (Dropout)       (None, 32)                0         \n",
      "_________________________________________________________________\n",
      "dense_1300 (Dense)           (None, 64)                2112      \n",
      "_________________________________________________________________\n",
      "dropout_1115 (Dropout)       (None, 64)                0         \n",
      "_________________________________________________________________\n",
      "dense_1301 (Dense)           (None, 715)               46475     \n",
      "=================================================================\n",
      "Total params: 1,121,427\n",
      "Trainable params: 1,121,427\n",
      "Non-trainable params: 0\n",
      "_________________________________________________________________\n",
      "None\n",
      "Epoch 1/20\n",
      "24/24 [==============================] - 0s 7ms/step - loss: 32.1750 - val_loss: 23.8116\n",
      "Epoch 2/20\n",
      "24/24 [==============================] - 0s 4ms/step - loss: 20.7382 - val_loss: 16.6313\n"
     ]
    },
    {
     "name": "stdout",
     "output_type": "stream",
     "text": [
      "Epoch 3/20\n",
      "24/24 [==============================] - 0s 4ms/step - loss: 10.2353 - val_loss: 6.3526\n",
      "Epoch 4/20\n",
      "24/24 [==============================] - 0s 4ms/step - loss: 5.2225 - val_loss: 4.3654\n",
      "Epoch 5/20\n",
      "24/24 [==============================] - 0s 4ms/step - loss: 3.9567 - val_loss: 3.6416\n",
      "Epoch 6/20\n",
      "24/24 [==============================] - 0s 4ms/step - loss: 3.3227 - val_loss: 3.1670\n",
      "Epoch 7/20\n",
      "24/24 [==============================] - 0s 4ms/step - loss: 2.8928 - val_loss: 2.8376\n",
      "Epoch 8/20\n",
      "24/24 [==============================] - 0s 4ms/step - loss: 2.5918 - val_loss: 2.5644\n",
      "Epoch 9/20\n",
      "24/24 [==============================] - 0s 4ms/step - loss: 2.3658 - val_loss: 2.3653\n",
      "Epoch 10/20\n",
      "24/24 [==============================] - 0s 4ms/step - loss: 2.1918 - val_loss: 2.2408\n",
      "Epoch 11/20\n",
      "24/24 [==============================] - 0s 6ms/step - loss: 2.0536 - val_loss: 2.0909\n",
      "Epoch 12/20\n",
      "24/24 [==============================] - 0s 6ms/step - loss: 1.9579 - val_loss: 1.9849\n",
      "Epoch 13/20\n",
      "24/24 [==============================] - 0s 6ms/step - loss: 1.8448 - val_loss: 1.8887\n",
      "Epoch 14/20\n",
      "24/24 [==============================] - 0s 6ms/step - loss: 1.7745 - val_loss: 1.8260\n",
      "Epoch 15/20\n",
      "24/24 [==============================] - 0s 5ms/step - loss: 1.7125 - val_loss: 1.7443\n",
      "Epoch 16/20\n",
      "24/24 [==============================] - 0s 5ms/step - loss: 1.6638 - val_loss: 1.7122\n",
      "Epoch 17/20\n",
      "24/24 [==============================] - 0s 6ms/step - loss: 1.6050 - val_loss: 1.6404\n",
      "Epoch 18/20\n",
      "24/24 [==============================] - 0s 7ms/step - loss: 1.5645 - val_loss: 1.6045\n",
      "Epoch 19/20\n",
      "24/24 [==============================] - 0s 5ms/step - loss: 1.5256 - val_loss: 1.5573\n",
      "Epoch 20/20\n",
      "24/24 [==============================] - 0s 5ms/step - loss: 1.4902 - val_loss: 1.5323\n"
     ]
    },
    {
     "name": "stderr",
     "output_type": "stream",
     "text": [
      "/home/sadisari/anaconda3/envs/kerasGpu_env/lib/python3.6/site-packages/ipykernel_launcher.py:9: RuntimeWarning: Mean of empty slice\n",
      "  if __name__ == '__main__':\n"
     ]
    },
    {
     "name": "stdout",
     "output_type": "stream",
     "text": [
      "Model: \"sequential_186\"\n",
      "_________________________________________________________________\n",
      "Layer (type)                 Output Shape              Param #   \n",
      "=================================================================\n",
      "dense_1302 (Dense)           (None, 715)               511940    \n",
      "_________________________________________________________________\n",
      "dropout_1116 (Dropout)       (None, 715)               0         \n",
      "_________________________________________________________________\n",
      "dense_1303 (Dense)           (None, 715)               511940    \n",
      "_________________________________________________________________\n",
      "dropout_1117 (Dropout)       (None, 715)               0         \n",
      "_________________________________________________________________\n",
      "dense_1304 (Dense)           (None, 64)                45824     \n",
      "_________________________________________________________________\n",
      "dropout_1118 (Dropout)       (None, 64)                0         \n",
      "_________________________________________________________________\n",
      "dense_1305 (Dense)           (None, 32)                2080      \n",
      "_________________________________________________________________\n",
      "dropout_1119 (Dropout)       (None, 32)                0         \n",
      "_________________________________________________________________\n",
      "dense_1306 (Dense)           (None, 32)                1056      \n",
      "_________________________________________________________________\n",
      "dropout_1120 (Dropout)       (None, 32)                0         \n",
      "_________________________________________________________________\n",
      "dense_1307 (Dense)           (None, 64)                2112      \n",
      "_________________________________________________________________\n",
      "dropout_1121 (Dropout)       (None, 64)                0         \n",
      "_________________________________________________________________\n",
      "dense_1308 (Dense)           (None, 715)               46475     \n",
      "=================================================================\n",
      "Total params: 1,121,427\n",
      "Trainable params: 1,121,427\n",
      "Non-trainable params: 0\n",
      "_________________________________________________________________\n",
      "None\n",
      "Epoch 1/20\n",
      "24/24 [==============================] - 0s 8ms/step - loss: 35.1249 - val_loss: 26.3467\n",
      "Epoch 2/20\n",
      "24/24 [==============================] - 0s 4ms/step - loss: 21.5309 - val_loss: 15.7294\n",
      "Epoch 3/20\n",
      "24/24 [==============================] - 0s 4ms/step - loss: 9.8488 - val_loss: 7.2290\n",
      "Epoch 4/20\n",
      "24/24 [==============================] - 0s 4ms/step - loss: 5.7460 - val_loss: 5.4697\n",
      "Epoch 5/20\n",
      "24/24 [==============================] - 0s 4ms/step - loss: 4.4191 - val_loss: 4.7894\n",
      "Epoch 6/20\n",
      "24/24 [==============================] - 0s 4ms/step - loss: 3.6876 - val_loss: 3.9997\n",
      "Epoch 7/20\n",
      "24/24 [==============================] - 0s 4ms/step - loss: 3.1576 - val_loss: 3.6517\n",
      "Epoch 8/20\n",
      "24/24 [==============================] - 0s 6ms/step - loss: 2.8187 - val_loss: 3.2214\n",
      "Epoch 9/20\n",
      "24/24 [==============================] - 0s 5ms/step - loss: 2.5396 - val_loss: 2.9683\n",
      "Epoch 10/20\n",
      "24/24 [==============================] - 0s 4ms/step - loss: 2.3442 - val_loss: 2.7656\n",
      "Epoch 11/20\n",
      "24/24 [==============================] - 0s 4ms/step - loss: 2.1841 - val_loss: 2.5977\n",
      "Epoch 12/20\n",
      "24/24 [==============================] - 0s 4ms/step - loss: 2.0382 - val_loss: 2.4596\n",
      "Epoch 13/20\n",
      "24/24 [==============================] - 0s 4ms/step - loss: 1.9419 - val_loss: 2.3631\n",
      "Epoch 14/20\n",
      "24/24 [==============================] - 0s 4ms/step - loss: 1.8465 - val_loss: 2.2346\n",
      "Epoch 15/20\n",
      "24/24 [==============================] - 0s 4ms/step - loss: 1.7913 - val_loss: 2.1689\n",
      "Epoch 16/20\n",
      "24/24 [==============================] - 0s 4ms/step - loss: 1.7187 - val_loss: 2.0563\n",
      "Epoch 17/20\n",
      "24/24 [==============================] - 0s 4ms/step - loss: 1.6589 - val_loss: 2.0096\n",
      "Epoch 18/20\n",
      "24/24 [==============================] - 0s 5ms/step - loss: 1.6164 - val_loss: 1.9518\n",
      "Epoch 19/20\n",
      "24/24 [==============================] - 0s 4ms/step - loss: 1.5780 - val_loss: 1.8921\n",
      "Epoch 20/20\n",
      "24/24 [==============================] - 0s 4ms/step - loss: 1.5365 - val_loss: 1.9016\n"
     ]
    }
   ],
   "source": [
    "for ii,file in enumerate(glob.glob('./mat-files/*.mat')):\n",
    "    B = np.asarray(all_features[ii])\n",
    "    #B = A[0:11,:,:]\n",
    "    a,b,ntrials = np.asarray(B).shape\n",
    "    new_arr = B.reshape(a*b,ntrials)\n",
    "    infIdx = np.where(abs(B)==np.inf)\n",
    "    B[infIdx[0],infIdx[1],infIdx[2]] = B[infIdx[0],infIdx[1]-1,infIdx[2]]\n",
    "    infIdx = np.where(np.isnan(B))\n",
    "    B[infIdx[0],infIdx[1],infIdx[2]] = np.nanmean(B[infIdx[0],:,infIdx[2]])\n",
    "    new_arr = B.reshape(a*b,ntrials)\n",
    "    # pyod expects n_samples x n_features\n",
    "    new_arr_trans = np.swapaxes(new_arr,0,1)\n",
    "    clf = auto_encoder.AutoEncoder(epochs=20, contamination=.15)\n",
    "    clf.fit(new_arr_trans)\n",
    "    outlier_labels = np.where(clf.labels_)\n",
    "    outfile = './outlier-files/'+Path(file).stem+'.npy'\n",
    "    np.save(outfile,outlier_labels[0])\n",
    "    outfile = './outlier-mat/rjct_'+Path(file).stem+'.mat'\n",
    "    scipy.io.savemat(outfile, {'reject_list':clf.labels_})"
   ]
  },
  {
   "cell_type": "code",
   "execution_count": 275,
   "metadata": {},
   "outputs": [],
   "source": [
    "ii = 1"
   ]
  },
  {
   "cell_type": "code",
   "execution_count": 306,
   "metadata": {},
   "outputs": [],
   "source": [
    "A = np.asarray(all_features[ii])\n",
    "B = A[0:11,:,:]\n",
    "a,b,ntrials = np.asarray(B).shape\n",
    "new_arr = B.reshape(a*b,ntrials)"
   ]
  },
  {
   "cell_type": "code",
   "execution_count": 307,
   "metadata": {},
   "outputs": [],
   "source": [
    "infIdx = np.where(abs(B)==np.inf)"
   ]
  },
  {
   "cell_type": "code",
   "execution_count": 308,
   "metadata": {},
   "outputs": [
    {
     "data": {
      "text/plain": [
       "(array([3, 3, 3, 3, 3, 3, 3, 3, 3, 3, 3, 3, 3, 3, 3, 3, 3, 3, 3, 3, 3, 3,\n",
       "        3, 3, 3]),\n",
       " array([ 6,  9, 15, 16, 17, 18, 18, 19, 19, 21, 22, 26, 26, 29, 33, 34, 35,\n",
       "        36, 41, 44, 45, 46, 49, 61, 64]),\n",
       " array([283, 100, 619,  73, 363, 545, 565, 375, 603, 568,  95, 212, 577,\n",
       "        524, 308, 694, 618,  21, 719, 143, 153, 541, 500, 333, 156]))"
      ]
     },
     "execution_count": 308,
     "metadata": {},
     "output_type": "execute_result"
    }
   ],
   "source": [
    "infIdx"
   ]
  },
  {
   "cell_type": "code",
   "execution_count": 310,
   "metadata": {},
   "outputs": [
    {
     "data": {
      "text/plain": [
       "3.908827143945497"
      ]
     },
     "execution_count": 310,
     "metadata": {},
     "output_type": "execute_result"
    }
   ],
   "source": [
    "B[0,0,1]"
   ]
  },
  {
   "cell_type": "code",
   "execution_count": 295,
   "metadata": {},
   "outputs": [],
   "source": [
    "B[infIdx[0],infIdx[1],infIdx[2]] = B[infIdx[0],infIdx[1]-1,infIdx[2]]"
   ]
  },
  {
   "cell_type": "code",
   "execution_count": 297,
   "metadata": {},
   "outputs": [],
   "source": [
    "infIdx = np.where(np.isnan(B))\n",
    "B[infIdx[0],infIdx[1],infIdx[2]] = np.nanmean(B[infIdx[0],:,infIdx[2]])"
   ]
  },
  {
   "cell_type": "code",
   "execution_count": 280,
   "metadata": {},
   "outputs": [],
   "source": [
    "B[5,:,:]=B[5,:,:]/(10*np.e**30)\n",
    "B[6,:,:]=B[6,:,:]/(10*np.e**30)"
   ]
  },
  {
   "cell_type": "code",
   "execution_count": 281,
   "metadata": {},
   "outputs": [
    {
     "data": {
      "text/plain": [
       "(11, 65, 786)"
      ]
     },
     "execution_count": 281,
     "metadata": {},
     "output_type": "execute_result"
    }
   ],
   "source": [
    "B.shape"
   ]
  },
  {
   "cell_type": "code",
   "execution_count": 291,
   "metadata": {},
   "outputs": [],
   "source": [
    "new_arr = B.reshape(a*b,ntrials)"
   ]
  },
  {
   "cell_type": "code",
   "execution_count": 325,
   "metadata": {},
   "outputs": [],
   "source": [
    "new_arr_trans = np.swapaxes(new_arr,0,1)"
   ]
  },
  {
   "cell_type": "code",
   "execution_count": 326,
   "metadata": {},
   "outputs": [
    {
     "name": "stdout",
     "output_type": "stream",
     "text": [
      "Model: \"sequential_103\"\n",
      "_________________________________________________________________\n",
      "Layer (type)                 Output Shape              Param #   \n",
      "=================================================================\n",
      "dense_721 (Dense)            (None, 715)               511940    \n",
      "_________________________________________________________________\n",
      "dropout_618 (Dropout)        (None, 715)               0         \n",
      "_________________________________________________________________\n",
      "dense_722 (Dense)            (None, 715)               511940    \n",
      "_________________________________________________________________\n",
      "dropout_619 (Dropout)        (None, 715)               0         \n",
      "_________________________________________________________________\n",
      "dense_723 (Dense)            (None, 64)                45824     \n",
      "_________________________________________________________________\n",
      "dropout_620 (Dropout)        (None, 64)                0         \n",
      "_________________________________________________________________\n",
      "dense_724 (Dense)            (None, 32)                2080      \n",
      "_________________________________________________________________\n",
      "dropout_621 (Dropout)        (None, 32)                0         \n",
      "_________________________________________________________________\n",
      "dense_725 (Dense)            (None, 32)                1056      \n",
      "_________________________________________________________________\n",
      "dropout_622 (Dropout)        (None, 32)                0         \n",
      "_________________________________________________________________\n",
      "dense_726 (Dense)            (None, 64)                2112      \n",
      "_________________________________________________________________\n",
      "dropout_623 (Dropout)        (None, 64)                0         \n",
      "_________________________________________________________________\n",
      "dense_727 (Dense)            (None, 715)               46475     \n",
      "=================================================================\n",
      "Total params: 1,121,427\n",
      "Trainable params: 1,121,427\n",
      "Non-trainable params: 0\n",
      "_________________________________________________________________\n",
      "None\n",
      "Epoch 1/20\n",
      "21/21 [==============================] - 0s 9ms/step - loss: 40.7587 - val_loss: 32.1165\n",
      "Epoch 2/20\n",
      "21/21 [==============================] - 0s 6ms/step - loss: 27.2971 - val_loss: 27.6069\n",
      "Epoch 3/20\n",
      "21/21 [==============================] - 0s 5ms/step - loss: 19.3795 - val_loss: 17.0280\n",
      "Epoch 4/20\n",
      "21/21 [==============================] - 0s 4ms/step - loss: 9.6047 - val_loss: 12.1515\n",
      "Epoch 5/20\n",
      "21/21 [==============================] - 0s 5ms/step - loss: 6.4440 - val_loss: 10.9999\n",
      "Epoch 6/20\n",
      "21/21 [==============================] - 0s 5ms/step - loss: 5.1973 - val_loss: 10.1061\n",
      "Epoch 7/20\n",
      "21/21 [==============================] - 0s 4ms/step - loss: 4.3158 - val_loss: 9.6104\n",
      "Epoch 8/20\n",
      "21/21 [==============================] - 0s 4ms/step - loss: 3.7070 - val_loss: 8.9750\n",
      "Epoch 9/20\n",
      "21/21 [==============================] - 0s 5ms/step - loss: 3.2278 - val_loss: 8.4781\n",
      "Epoch 10/20\n",
      "21/21 [==============================] - 0s 5ms/step - loss: 2.8929 - val_loss: 7.9366\n",
      "Epoch 11/20\n",
      "21/21 [==============================] - 0s 4ms/step - loss: 2.6130 - val_loss: 7.6958\n",
      "Epoch 12/20\n",
      "21/21 [==============================] - 0s 4ms/step - loss: 2.4096 - val_loss: 7.4446\n",
      "Epoch 13/20\n",
      "21/21 [==============================] - 0s 5ms/step - loss: 2.2342 - val_loss: 7.0765\n",
      "Epoch 14/20\n",
      "21/21 [==============================] - 0s 5ms/step - loss: 2.0886 - val_loss: 6.8828\n",
      "Epoch 15/20\n",
      "21/21 [==============================] - 0s 6ms/step - loss: 1.9959 - val_loss: 6.7055\n",
      "Epoch 16/20\n",
      "21/21 [==============================] - 0s 5ms/step - loss: 1.8864 - val_loss: 6.5736\n",
      "Epoch 17/20\n",
      "21/21 [==============================] - 0s 5ms/step - loss: 1.8063 - val_loss: 6.2102\n",
      "Epoch 18/20\n",
      "21/21 [==============================] - 0s 5ms/step - loss: 1.7357 - val_loss: 6.1945\n",
      "Epoch 19/20\n",
      "21/21 [==============================] - 0s 4ms/step - loss: 1.6771 - val_loss: 6.0539\n",
      "Epoch 20/20\n",
      "21/21 [==============================] - 0s 4ms/step - loss: 1.6328 - val_loss: 6.0016\n"
     ]
    },
    {
     "data": {
      "text/plain": [
       "AutoEncoder(batch_size=32, contamination=0.15, dropout_rate=0.2, epochs=20,\n",
       "      hidden_activation='relu', hidden_neurons=[64, 32, 32, 64],\n",
       "      l2_regularizer=0.1,\n",
       "      loss=<function mean_squared_error at 0x7fbd99a8aa60>,\n",
       "      optimizer='adam', output_activation='sigmoid', preprocessing=True,\n",
       "      random_state=None, validation_size=0.1, verbose=1)"
      ]
     },
     "execution_count": 326,
     "metadata": {},
     "output_type": "execute_result"
    }
   ],
   "source": [
    "clf = auto_encoder.AutoEncoder(epochs=20, contamination=.15)\n",
    "clf.fit(new_arr_trans)"
   ]
  },
  {
   "cell_type": "code",
   "execution_count": 327,
   "metadata": {},
   "outputs": [],
   "source": [
    "idx = np.where(clf.labels_)[0]"
   ]
  },
  {
   "cell_type": "code",
   "execution_count": 336,
   "metadata": {},
   "outputs": [
    {
     "data": {
      "text/plain": [
       "array([  8,  12,  53,  56,  84,  94, 100, 121, 185, 191, 201, 206, 247,\n",
       "       261, 269, 271, 282, 288, 295, 298, 301, 303, 306, 308, 313, 328,\n",
       "       334, 338, 352, 357, 364, 379, 381, 382, 390, 391, 392, 394, 400,\n",
       "       415, 420, 422, 432, 437, 442, 443, 446, 455, 457, 460, 465, 473,\n",
       "       475, 478, 481, 484, 490, 502, 504, 511, 517, 520, 524, 532, 544,\n",
       "       549, 550, 551, 552, 556, 558, 559, 560, 564, 566, 570, 573, 574,\n",
       "       576, 578, 593, 600, 602, 603, 604, 605, 608, 609, 611, 614, 618,\n",
       "       621, 628, 629, 630, 655, 667, 668, 669, 671, 672, 678, 680, 683,\n",
       "       686, 688, 689, 694])"
      ]
     },
     "execution_count": 336,
     "metadata": {},
     "output_type": "execute_result"
    }
   ],
   "source": [
    "idx"
   ]
  },
  {
   "cell_type": "code",
   "execution_count": 337,
   "metadata": {},
   "outputs": [
    {
     "ename": "NameError",
     "evalue": "name 'tolist' is not defined",
     "output_type": "error",
     "traceback": [
      "\u001b[0;31m---------------------------------------------------------------------------\u001b[0m",
      "\u001b[0;31mNameError\u001b[0m                                 Traceback (most recent call last)",
      "\u001b[0;32m<ipython-input-337-d0047b5ec553>\u001b[0m in \u001b[0;36m<module>\u001b[0;34m()\u001b[0m\n\u001b[0;32m----> 1\u001b[0;31m \u001b[0mtolist\u001b[0m\u001b[0;34m(\u001b[0m\u001b[0mclf\u001b[0m\u001b[0;34m.\u001b[0m\u001b[0mlabels_\u001b[0m\u001b[0;34m)\u001b[0m\u001b[0;34m\u001b[0m\u001b[0;34m\u001b[0m\u001b[0m\n\u001b[0m",
      "\u001b[0;31mNameError\u001b[0m: name 'tolist' is not defined"
     ]
    }
   ],
   "source": [
    "tolist(clf.labels_)"
   ]
  },
  {
   "cell_type": "code",
   "execution_count": 330,
   "metadata": {},
   "outputs": [],
   "source": [
    "A=np.zeros(idx.shape[0])"
   ]
  },
  {
   "cell_type": "code",
   "execution_count": 331,
   "metadata": {},
   "outputs": [
    {
     "data": {
      "text/plain": [
       "(108,)"
      ]
     },
     "execution_count": 331,
     "metadata": {},
     "output_type": "execute_result"
    }
   ],
   "source": [
    "A.shape"
   ]
  },
  {
   "cell_type": "code",
   "execution_count": 328,
   "metadata": {},
   "outputs": [
    {
     "data": {
      "text/plain": [
       "(721, 715)"
      ]
     },
     "execution_count": 328,
     "metadata": {},
     "output_type": "execute_result"
    }
   ],
   "source": [
    "new_arr_trans.shape"
   ]
  },
  {
   "cell_type": "code",
   "execution_count": 322,
   "metadata": {},
   "outputs": [],
   "source": [
    "X_train, X_test, y_train, y_test = utils.data.generate_data(n_train=10, n_test=10, contamination=.1)"
   ]
  },
  {
   "cell_type": "code",
   "execution_count": 320,
   "metadata": {},
   "outputs": [],
   "source": [
    "from pyod import utils"
   ]
  },
  {
   "cell_type": "code",
   "execution_count": 323,
   "metadata": {},
   "outputs": [
    {
     "data": {
      "text/plain": [
       "(10, 2)"
      ]
     },
     "execution_count": 323,
     "metadata": {},
     "output_type": "execute_result"
    }
   ],
   "source": [
    "X_train.shape"
   ]
  },
  {
   "cell_type": "code",
   "execution_count": null,
   "metadata": {},
   "outputs": [],
   "source": []
  }
 ],
 "metadata": {
  "kernelspec": {
   "display_name": "Python 3",
   "language": "python",
   "name": "python3"
  },
  "language_info": {
   "codemirror_mode": {
    "name": "ipython",
    "version": 3
   },
   "file_extension": ".py",
   "mimetype": "text/x-python",
   "name": "python",
   "nbconvert_exporter": "python",
   "pygments_lexer": "ipython3",
   "version": "3.6.13"
  }
 },
 "nbformat": 4,
 "nbformat_minor": 2
}
